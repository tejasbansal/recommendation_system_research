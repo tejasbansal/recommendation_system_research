{
 "cells": [
  {
   "cell_type": "code",
   "execution_count": 40,
   "metadata": {},
   "outputs": [],
   "source": [
    "import pandas as pd\n",
    "import matplotlib\n",
    "import matplotlib.pyplot as plt\n",
    "import matplotlib.dates as dates\n",
    "from matplotlib.ticker import AutoMinorLocator\n",
    "import datetime as dt\n",
    "import numpy as np\n",
    "import gc\n",
    "from sklearn import svm, preprocessing"
   ]
  },
  {
   "cell_type": "code",
   "execution_count": 41,
   "metadata": {},
   "outputs": [
    {
     "data": {
      "text/html": [
       "<div>\n",
       "<style scoped>\n",
       "    .dataframe tbody tr th:only-of-type {\n",
       "        vertical-align: middle;\n",
       "    }\n",
       "\n",
       "    .dataframe tbody tr th {\n",
       "        vertical-align: top;\n",
       "    }\n",
       "\n",
       "    .dataframe thead th {\n",
       "        text-align: right;\n",
       "    }\n",
       "</style>\n",
       "<table border=\"1\" class=\"dataframe\">\n",
       "  <thead>\n",
       "    <tr style=\"text-align: right;\">\n",
       "      <th></th>\n",
       "      <th>timestamp</th>\n",
       "      <th>pg_views</th>\n",
       "    </tr>\n",
       "  </thead>\n",
       "  <tbody>\n",
       "    <tr>\n",
       "      <th>0</th>\n",
       "      <td>2006-11-29 15:42:00</td>\n",
       "      <td>157</td>\n",
       "    </tr>\n",
       "    <tr>\n",
       "      <th>1</th>\n",
       "      <td>2006-11-30 15:42:00</td>\n",
       "      <td>92</td>\n",
       "    </tr>\n",
       "    <tr>\n",
       "      <th>2</th>\n",
       "      <td>2006-12-01 15:42:00</td>\n",
       "      <td>87</td>\n",
       "    </tr>\n",
       "    <tr>\n",
       "      <th>3</th>\n",
       "      <td>2006-12-02 15:42:00</td>\n",
       "      <td>135</td>\n",
       "    </tr>\n",
       "    <tr>\n",
       "      <th>4</th>\n",
       "      <td>2006-12-03 15:42:00</td>\n",
       "      <td>213</td>\n",
       "    </tr>\n",
       "  </tbody>\n",
       "</table>\n",
       "</div>"
      ],
      "text/plain": [
       "            timestamp  pg_views\n",
       "0 2006-11-29 15:42:00       157\n",
       "1 2006-11-30 15:42:00        92\n",
       "2 2006-12-01 15:42:00        87\n",
       "3 2006-12-02 15:42:00       135\n",
       "4 2006-12-03 15:42:00       213"
      ]
     },
     "execution_count": 41,
     "metadata": {},
     "output_type": "execute_result"
    }
   ],
   "source": [
    "pg = pd.read_csv('pg_view_1.csv')\n",
    "pg['timestamp'] = pg['timestamp'].apply(lambda x: dt.datetime.strptime(x,'%Y-%m-%d %H:%M:%S'))\n",
    "del pg['Unnamed: 0']\n",
    "del pg['rolling_avg']\n",
    "pg.head()"
   ]
  },
  {
   "cell_type": "code",
   "execution_count": 42,
   "metadata": {},
   "outputs": [
    {
     "data": {
      "text/html": [
       "<div>\n",
       "<style scoped>\n",
       "    .dataframe tbody tr th:only-of-type {\n",
       "        vertical-align: middle;\n",
       "    }\n",
       "\n",
       "    .dataframe tbody tr th {\n",
       "        vertical-align: top;\n",
       "    }\n",
       "\n",
       "    .dataframe thead th {\n",
       "        text-align: right;\n",
       "    }\n",
       "</style>\n",
       "<table border=\"1\" class=\"dataframe\">\n",
       "  <thead>\n",
       "    <tr style=\"text-align: right;\">\n",
       "      <th></th>\n",
       "      <th>timestamp</th>\n",
       "      <th>action</th>\n",
       "      <th>christmas</th>\n",
       "      <th>halloween</th>\n",
       "      <th>horror</th>\n",
       "      <th>comedy</th>\n",
       "      <th>romance</th>\n",
       "    </tr>\n",
       "  </thead>\n",
       "  <tbody>\n",
       "    <tr>\n",
       "      <th>0</th>\n",
       "      <td>2006-11-29 15:42:00</td>\n",
       "      <td>22.915341</td>\n",
       "      <td>0.000000</td>\n",
       "      <td>0.636537</td>\n",
       "      <td>5.092298</td>\n",
       "      <td>17.186505</td>\n",
       "      <td>16.549968</td>\n",
       "    </tr>\n",
       "    <tr>\n",
       "      <th>1</th>\n",
       "      <td>2006-11-30 15:42:00</td>\n",
       "      <td>40.173724</td>\n",
       "      <td>0.000000</td>\n",
       "      <td>0.000000</td>\n",
       "      <td>9.771987</td>\n",
       "      <td>34.744843</td>\n",
       "      <td>16.286645</td>\n",
       "    </tr>\n",
       "    <tr>\n",
       "      <th>2</th>\n",
       "      <td>2006-12-01 15:42:00</td>\n",
       "      <td>25.258324</td>\n",
       "      <td>0.000000</td>\n",
       "      <td>0.000000</td>\n",
       "      <td>5.740528</td>\n",
       "      <td>19.517796</td>\n",
       "      <td>10.332951</td>\n",
       "    </tr>\n",
       "    <tr>\n",
       "      <th>3</th>\n",
       "      <td>2006-12-02 15:42:00</td>\n",
       "      <td>18.504811</td>\n",
       "      <td>2.960770</td>\n",
       "      <td>0.000000</td>\n",
       "      <td>4.441155</td>\n",
       "      <td>19.245004</td>\n",
       "      <td>11.102887</td>\n",
       "    </tr>\n",
       "    <tr>\n",
       "      <th>4</th>\n",
       "      <td>2006-12-03 15:42:00</td>\n",
       "      <td>45.049273</td>\n",
       "      <td>0.469263</td>\n",
       "      <td>0.469263</td>\n",
       "      <td>7.977475</td>\n",
       "      <td>28.625059</td>\n",
       "      <td>17.362740</td>\n",
       "    </tr>\n",
       "  </tbody>\n",
       "</table>\n",
       "</div>"
      ],
      "text/plain": [
       "            timestamp     action  christmas  halloween    horror     comedy  \\\n",
       "0 2006-11-29 15:42:00  22.915341   0.000000   0.636537  5.092298  17.186505   \n",
       "1 2006-11-30 15:42:00  40.173724   0.000000   0.000000  9.771987  34.744843   \n",
       "2 2006-12-01 15:42:00  25.258324   0.000000   0.000000  5.740528  19.517796   \n",
       "3 2006-12-02 15:42:00  18.504811   2.960770   0.000000  4.441155  19.245004   \n",
       "4 2006-12-03 15:42:00  45.049273   0.469263   0.469263  7.977475  28.625059   \n",
       "\n",
       "     romance  \n",
       "0  16.549968  \n",
       "1  16.286645  \n",
       "2  10.332951  \n",
       "3  11.102887  \n",
       "4  17.362740  "
      ]
     },
     "execution_count": 42,
     "metadata": {},
     "output_type": "execute_result"
    }
   ],
   "source": [
    "df = pd.read_csv('pg_view_tag_perc_breakdown.csv')\n",
    "df['timestamp'] = df['timestamp'].apply(lambda x: dt.datetime.strptime(x,'%Y-%m-%d %H:%M:%S'))\n",
    "del df['Unnamed: 0']\n",
    "df.head()"
   ]
  },
  {
   "cell_type": "code",
   "execution_count": 43,
   "metadata": {
    "scrolled": true
   },
   "outputs": [
    {
     "data": {
      "text/plain": [
       "timestamp    datetime64[ns]\n",
       "action              float64\n",
       "christmas           float64\n",
       "halloween           float64\n",
       "horror              float64\n",
       "comedy              float64\n",
       "romance             float64\n",
       "dtype: object"
      ]
     },
     "execution_count": 43,
     "metadata": {},
     "output_type": "execute_result"
    }
   ],
   "source": [
    "df.dtypes"
   ]
  },
  {
   "cell_type": "markdown",
   "metadata": {},
   "source": [
    "Normalize "
   ]
  },
  {
   "cell_type": "code",
   "execution_count": 44,
   "metadata": {},
   "outputs": [
    {
     "name": "stdout",
     "output_type": "stream",
     "text": [
      "[-0.31397045  1.02147319 -0.12898489 ...  0.1841788   0.1454015\n",
      " -0.12158515]\n"
     ]
    }
   ],
   "source": [
    "tag = \"horror\"\n",
    "X = np.array(df[tag].values)#.tolist()\n",
    "X = preprocessing.scale(X)\n",
    "df[tag+'n'] = X\n",
    "# df[tag+'_ravg'] = df[tag].rolling(window=14,center=True).mean() \n",
    "print(X)"
   ]
  },
  {
   "cell_type": "code",
   "execution_count": 52,
   "metadata": {},
   "outputs": [
    {
     "data": {
      "text/plain": [
       "[<matplotlib.lines.Line2D at 0x184f0ce5820>]"
      ]
     },
     "execution_count": 52,
     "metadata": {},
     "output_type": "execute_result"
    },
    {
     "data": {
      "image/png": "[encoded data removed]",
      "text/plain": [
       "<Figure size 1080x576 with 1 Axes>"
      ]
     },
     "metadata": {
      "needs_background": "light"
     },
     "output_type": "display_data"
    }
   ],
   "source": [
    "fig = plt.figure()\n",
    "ax = fig.add_subplot(1, 1, 1)\n",
    "import matplotlib.dates as mdate\n",
    "fig.set_size_inches(15,8)\n",
    "ax.xaxis_date()\n",
    "locator = mdate.YearLocator()\n",
    "plt.gca().xaxis.set_major_locator(locator)\n",
    "plt.grid(which='major')\n",
    "ax.xaxis.set_minor_locator(matplotlib.ticker.AutoMinorLocator(12))\n",
    "plt.setp(ax.xaxis.get_minorticklabels(), rotation=90)\n",
    "#plt.plot(df['timestamp'], df['action'],label='action')\n",
    "plt.plot(df['timestamp'], df[tag+'n'],label='ravg')\n",
    "#plt.plot(df['timestamp'], df[tag],label='ravg')\n"
   ]
  },
  {
   "cell_type": "code",
   "execution_count": null,
   "metadata": {},
   "outputs": [],
   "source": []
  }
 ],
 "metadata": {
  "kernelspec": {
   "display_name": "Python 3",
   "language": "python",
   "name": "python3"
  },
  "language_info": {
   "codemirror_mode": {
    "name": "ipython",
    "version": 3
   },
   "file_extension": ".py",
   "mimetype": "text/x-python",
   "name": "python",
   "nbconvert_exporter": "python",
   "pygments_lexer": "ipython3",
   "version": "3.8.3"
  }
 },
 "nbformat": 4,
 "nbformat_minor": 4
}
