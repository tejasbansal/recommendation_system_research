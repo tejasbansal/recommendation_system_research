{
 "cells": [
  {
   "cell_type": "code",
   "execution_count": 4,
   "metadata": {
    "pycharm": {
     "is_executing": true
    }
   },
   "outputs": [],
   "source": [
    "import pandas as pd\n",
    "import matplotlib.pyplot as plt\n",
    "import datetime\n",
    "import numpy as np"
   ]
  },
  {
   "cell_type": "code",
   "execution_count": 5,
   "metadata": {
    "pycharm": {
     "is_executing": true
    }
   },
   "outputs": [],
   "source": [
    "df = pd.read_csv('ratings.csv')\n",
    "df = df.drop('number of years after 1970 ', 1)\n",
    "df['timestamp'] = pd.to_datetime(df['timestamp'], unit='s')\n",
    "df['date'] = df['timestamp'].dt.strftime(\"%Y,%b,%d\")\n",
    "df['month_year'] = df['timestamp'].dt.to_period('M')"
   ]
  },
  {
   "cell_type": "code",
   "execution_count": 6,
   "metadata": {
    "pycharm": {
     "is_executing": true
    }
   },
   "outputs": [],
   "source": [
    "df = df.sort_values(by=['month_year'],ascending = False)"
   ]
  },
  {
   "cell_type": "code",
   "execution_count": 7,
   "metadata": {
    "pycharm": {
     "is_executing": true
    }
   },
   "outputs": [
    {
     "data": {
      "text/html": [
       "<div>\n",
       "<style scoped>\n",
       "    .dataframe tbody tr th:only-of-type {\n",
       "        vertical-align: middle;\n",
       "    }\n",
       "\n",
       "    .dataframe tbody tr th {\n",
       "        vertical-align: top;\n",
       "    }\n",
       "\n",
       "    .dataframe thead th {\n",
       "        text-align: right;\n",
       "    }\n",
       "</style>\n",
       "<table border=\"1\" class=\"dataframe\">\n",
       "  <thead>\n",
       "    <tr style=\"text-align: right;\">\n",
       "      <th></th>\n",
       "      <th>userId</th>\n",
       "      <th>movieId</th>\n",
       "      <th>rating</th>\n",
       "      <th>timestamp</th>\n",
       "      <th>timestamp.1</th>\n",
       "      <th>date</th>\n",
       "      <th>month_year</th>\n",
       "    </tr>\n",
       "  </thead>\n",
       "  <tbody>\n",
       "    <tr>\n",
       "      <th>679426</th>\n",
       "      <td>4642</td>\n",
       "      <td>176101</td>\n",
       "      <td>3.5</td>\n",
       "      <td>2019-11-15 08:49:43</td>\n",
       "      <td>1573807783</td>\n",
       "      <td>2019,Nov,15</td>\n",
       "      <td>2019-11</td>\n",
       "    </tr>\n",
       "    <tr>\n",
       "      <th>753131</th>\n",
       "      <td>5114</td>\n",
       "      <td>207405</td>\n",
       "      <td>3.0</td>\n",
       "      <td>2019-11-17 18:45:16</td>\n",
       "      <td>1574016316</td>\n",
       "      <td>2019,Nov,17</td>\n",
       "      <td>2019-11</td>\n",
       "    </tr>\n",
       "    <tr>\n",
       "      <th>246442</th>\n",
       "      <td>1746</td>\n",
       "      <td>110771</td>\n",
       "      <td>4.0</td>\n",
       "      <td>2019-11-18 11:20:56</td>\n",
       "      <td>1574076056</td>\n",
       "      <td>2019,Nov,18</td>\n",
       "      <td>2019-11</td>\n",
       "    </tr>\n",
       "  </tbody>\n",
       "</table>\n",
       "</div>"
      ],
      "text/plain": [
       "        userId  movieId  rating           timestamp  timestamp.1         date  \\\n",
       "679426    4642   176101     3.5 2019-11-15 08:49:43   1573807783  2019,Nov,15   \n",
       "753131    5114   207405     3.0 2019-11-17 18:45:16   1574016316  2019,Nov,17   \n",
       "246442    1746   110771     4.0 2019-11-18 11:20:56   1574076056  2019,Nov,18   \n",
       "\n",
       "       month_year  \n",
       "679426    2019-11  \n",
       "753131    2019-11  \n",
       "246442    2019-11  "
      ]
     },
     "execution_count": 7,
     "metadata": {},
     "output_type": "execute_result"
    }
   ],
   "source": [
    "df.head(3)"
   ]
  },
  {
   "cell_type": "code",
   "execution_count": 8,
   "metadata": {
    "pycharm": {
     "is_executing": true
    }
   },
   "outputs": [],
   "source": [
    "df.drop(df[df['movieId'] != 2858].index, inplace=True)"
   ]
  },
  {
   "cell_type": "code",
   "execution_count": 9,
   "metadata": {
    "pycharm": {
     "is_executing": true
    }
   },
   "outputs": [],
   "source": [
    "df.sort_values(by=['timestamp'],inplace=True,ascending=False)"
   ]
  },
  {
   "cell_type": "code",
   "execution_count": 10,
   "metadata": {
    "pycharm": {
     "is_executing": true
    }
   },
   "outputs": [
    {
     "data": {
      "text/html": [
       "<div>\n",
       "<style scoped>\n",
       "    .dataframe tbody tr th:only-of-type {\n",
       "        vertical-align: middle;\n",
       "    }\n",
       "\n",
       "    .dataframe tbody tr th {\n",
       "        vertical-align: top;\n",
       "    }\n",
       "\n",
       "    .dataframe thead th {\n",
       "        text-align: right;\n",
       "    }\n",
       "</style>\n",
       "<table border=\"1\" class=\"dataframe\">\n",
       "  <thead>\n",
       "    <tr style=\"text-align: right;\">\n",
       "      <th></th>\n",
       "      <th>userId</th>\n",
       "      <th>movieId</th>\n",
       "      <th>rating</th>\n",
       "      <th>timestamp</th>\n",
       "      <th>timestamp.1</th>\n",
       "      <th>date</th>\n",
       "      <th>month_year</th>\n",
       "    </tr>\n",
       "  </thead>\n",
       "  <tbody>\n",
       "    <tr>\n",
       "      <th>876462</th>\n",
       "      <td>5889</td>\n",
       "      <td>2858</td>\n",
       "      <td>4.0</td>\n",
       "      <td>2019-11-06 06:17:14</td>\n",
       "      <td>1573021034</td>\n",
       "      <td>2019,Nov,06</td>\n",
       "      <td>2019-11</td>\n",
       "    </tr>\n",
       "    <tr>\n",
       "      <th>137276</th>\n",
       "      <td>973</td>\n",
       "      <td>2858</td>\n",
       "      <td>4.0</td>\n",
       "      <td>2019-11-01 16:53:49</td>\n",
       "      <td>1572627229</td>\n",
       "      <td>2019,Nov,01</td>\n",
       "      <td>2019-11</td>\n",
       "    </tr>\n",
       "    <tr>\n",
       "      <th>973256</th>\n",
       "      <td>6542</td>\n",
       "      <td>2858</td>\n",
       "      <td>5.0</td>\n",
       "      <td>2019-10-31 19:16:28</td>\n",
       "      <td>1572549388</td>\n",
       "      <td>2019,Oct,31</td>\n",
       "      <td>2019-10</td>\n",
       "    </tr>\n",
       "  </tbody>\n",
       "</table>\n",
       "</div>"
      ],
      "text/plain": [
       "        userId  movieId  rating           timestamp  timestamp.1         date  \\\n",
       "876462    5889     2858     4.0 2019-11-06 06:17:14   1573021034  2019,Nov,06   \n",
       "137276     973     2858     4.0 2019-11-01 16:53:49   1572627229  2019,Nov,01   \n",
       "973256    6542     2858     5.0 2019-10-31 19:16:28   1572549388  2019,Oct,31   \n",
       "\n",
       "       month_year  \n",
       "876462    2019-11  \n",
       "137276    2019-11  \n",
       "973256    2019-10  "
      ]
     },
     "execution_count": 10,
     "metadata": {},
     "output_type": "execute_result"
    }
   ],
   "source": [
    "df.head(3)"
   ]
  },
  {
   "cell_type": "code",
   "execution_count": 11,
   "metadata": {
    "pycharm": {
     "is_executing": true
    }
   },
   "outputs": [],
   "source": [
    "df = df.sort_values(by=['month_year'],ascending=False)"
   ]
  },
  {
   "cell_type": "code",
   "execution_count": 12,
   "metadata": {
    "pycharm": {
     "is_executing": true
    },
    "scrolled": true
   },
   "outputs": [
    {
     "data": {
      "text/plain": [
       "userId                  int64\n",
       "movieId                 int64\n",
       "rating                float64\n",
       "timestamp      datetime64[ns]\n",
       "timestamp.1             int64\n",
       "date                   object\n",
       "month_year          period[M]\n",
       "dtype: object"
      ]
     },
     "execution_count": 12,
     "metadata": {},
     "output_type": "execute_result"
    }
   ],
   "source": [
    "df.dtypes"
   ]
  },
  {
   "cell_type": "code",
   "execution_count": 13,
   "metadata": {
    "pycharm": {
     "is_executing": true
    }
   },
   "outputs": [
    {
     "name": "stdout",
     "output_type": "stream",
     "text": [
      "1999-09-29 18:51:32\n"
     ]
    },
    {
     "data": {
      "text/html": [
       "<div>\n",
       "<style scoped>\n",
       "    .dataframe tbody tr th:only-of-type {\n",
       "        vertical-align: middle;\n",
       "    }\n",
       "\n",
       "    .dataframe tbody tr th {\n",
       "        vertical-align: top;\n",
       "    }\n",
       "\n",
       "    .dataframe thead th {\n",
       "        text-align: right;\n",
       "    }\n",
       "</style>\n",
       "<table border=\"1\" class=\"dataframe\">\n",
       "  <thead>\n",
       "    <tr style=\"text-align: right;\">\n",
       "      <th></th>\n",
       "      <th>userId</th>\n",
       "      <th>movieId</th>\n",
       "      <th>rating</th>\n",
       "      <th>timestamp</th>\n",
       "      <th>timestamp.1</th>\n",
       "      <th>date</th>\n",
       "      <th>month_year</th>\n",
       "      <th>year</th>\n",
       "      <th>month</th>\n",
       "    </tr>\n",
       "  </thead>\n",
       "  <tbody>\n",
       "    <tr>\n",
       "      <th>876462</th>\n",
       "      <td>5889</td>\n",
       "      <td>2858</td>\n",
       "      <td>4.0</td>\n",
       "      <td>2019-11-06 06:17:14</td>\n",
       "      <td>1573021034</td>\n",
       "      <td>2019,Nov,06</td>\n",
       "      <td>2019-11</td>\n",
       "      <td>2019</td>\n",
       "      <td>11</td>\n",
       "    </tr>\n",
       "    <tr>\n",
       "      <th>137276</th>\n",
       "      <td>973</td>\n",
       "      <td>2858</td>\n",
       "      <td>4.0</td>\n",
       "      <td>2019-11-01 16:53:49</td>\n",
       "      <td>1572627229</td>\n",
       "      <td>2019,Nov,01</td>\n",
       "      <td>2019-11</td>\n",
       "      <td>2019</td>\n",
       "      <td>11</td>\n",
       "    </tr>\n",
       "    <tr>\n",
       "      <th>973256</th>\n",
       "      <td>6542</td>\n",
       "      <td>2858</td>\n",
       "      <td>5.0</td>\n",
       "      <td>2019-10-31 19:16:28</td>\n",
       "      <td>1572549388</td>\n",
       "      <td>2019,Oct,31</td>\n",
       "      <td>2019-10</td>\n",
       "      <td>2019</td>\n",
       "      <td>10</td>\n",
       "    </tr>\n",
       "  </tbody>\n",
       "</table>\n",
       "</div>"
      ],
      "text/plain": [
       "        userId  movieId  rating           timestamp  timestamp.1         date  \\\n",
       "876462    5889     2858     4.0 2019-11-06 06:17:14   1573021034  2019,Nov,06   \n",
       "137276     973     2858     4.0 2019-11-01 16:53:49   1572627229  2019,Nov,01   \n",
       "973256    6542     2858     5.0 2019-10-31 19:16:28   1572549388  2019,Oct,31   \n",
       "\n",
       "       month_year  year  month  \n",
       "876462    2019-11  2019     11  \n",
       "137276    2019-11  2019     11  \n",
       "973256    2019-10  2019     10  "
      ]
     },
     "execution_count": 13,
     "metadata": {},
     "output_type": "execute_result"
    }
   ],
   "source": [
    "a = df['timestamp'].min()\n",
    "print(a)\n",
    "df['year'] = pd.DatetimeIndex(df['timestamp']).year\n",
    "df['month'] = pd.DatetimeIndex(df['timestamp']).month\n",
    "df.head(3)"
   ]
  },
  {
   "cell_type": "code",
   "execution_count": 14,
   "metadata": {
    "pycharm": {
     "is_executing": true
    }
   },
   "outputs": [
    {
     "name": "stdout",
     "output_type": "stream",
     "text": [
      "1999-09-29 18:51:32\n",
      "2019-11-06 06:17:14\n"
     ]
    }
   ],
   "source": [
    "#iterating over time \n",
    "start = df['timestamp'].min()\n",
    "end = df['timestamp'].max()\n",
    "df2 = pd.DataFrame(columns=['timestamp','number_of_ratings'])\n",
    "delta = datetime.timedelta(days=14)\n",
    "i = 0\n",
    "print(start)\n",
    "print(end)\n",
    "while start <= end:\n",
    "    count = 0\n",
    "    for t in df.timestamp:\n",
    "        if start<=t<start+delta:\n",
    "            count +=1\n",
    "    #print(start)\n",
    "    #print(count)\n",
    "    #print(i)\n",
    "    df2.loc[i] = [start,count]\n",
    "    i+=1\n",
    "    start+= delta\n",
    "   \n",
    "    \n"
   ]
  },
  {
   "cell_type": "code",
   "execution_count": 15,
   "metadata": {
    "pycharm": {
     "is_executing": true
    },
    "scrolled": true
   },
   "outputs": [
    {
     "data": {
      "text/html": [
       "<div>\n",
       "<style scoped>\n",
       "    .dataframe tbody tr th:only-of-type {\n",
       "        vertical-align: middle;\n",
       "    }\n",
       "\n",
       "    .dataframe tbody tr th {\n",
       "        vertical-align: top;\n",
       "    }\n",
       "\n",
       "    .dataframe thead th {\n",
       "        text-align: right;\n",
       "    }\n",
       "</style>\n",
       "<table border=\"1\" class=\"dataframe\">\n",
       "  <thead>\n",
       "    <tr style=\"text-align: right;\">\n",
       "      <th></th>\n",
       "      <th>timestamp</th>\n",
       "      <th>number_of_ratings</th>\n",
       "    </tr>\n",
       "  </thead>\n",
       "  <tbody>\n",
       "    <tr>\n",
       "      <th>0</th>\n",
       "      <td>1999-09-29 18:51:32</td>\n",
       "      <td>34</td>\n",
       "    </tr>\n",
       "    <tr>\n",
       "      <th>1</th>\n",
       "      <td>1999-10-13 18:51:32</td>\n",
       "      <td>25</td>\n",
       "    </tr>\n",
       "    <tr>\n",
       "      <th>2</th>\n",
       "      <td>1999-10-27 18:51:32</td>\n",
       "      <td>15</td>\n",
       "    </tr>\n",
       "    <tr>\n",
       "      <th>3</th>\n",
       "      <td>1999-11-10 18:51:32</td>\n",
       "      <td>16</td>\n",
       "    </tr>\n",
       "  </tbody>\n",
       "</table>\n",
       "</div>"
      ],
      "text/plain": [
       "            timestamp number_of_ratings\n",
       "0 1999-09-29 18:51:32                34\n",
       "1 1999-10-13 18:51:32                25\n",
       "2 1999-10-27 18:51:32                15\n",
       "3 1999-11-10 18:51:32                16"
      ]
     },
     "execution_count": 15,
     "metadata": {},
     "output_type": "execute_result"
    }
   ],
   "source": [
    "df2.head(4)"
   ]
  },
  {
   "cell_type": "code",
   "execution_count": 23,
   "metadata": {
    "scrolled": false
   },
   "outputs": [
    {
     "data": {
      "image/png": "[encoded data removed]",
      "text/plain": [
       "<Figure size 432x288 with 1 Axes>"
      ]
     },
     "metadata": {
      "needs_background": "light"
     },
     "output_type": "display_data"
    }
   ],
   "source": [
    "df2.plot(x='timestamp',y='number_of_ratings',kind='line')\n",
    "plt.savefig('test.png')"
   ]
  },
  {
   "cell_type": "code",
   "execution_count": null,
   "metadata": {},
   "outputs": [],
   "source": [
    "plt.show()"
   ]
  },
  {
   "cell_type": "code",
   "execution_count": null,
   "metadata": {},
   "outputs": [],
   "source": [
    "df2.dtypes"
   ]
  },
  {
   "cell_type": "code",
   "execution_count": null,
   "metadata": {},
   "outputs": [],
   "source": []
  }
 ],
 "metadata": {
  "kernelspec": {
   "display_name": "Python 3",
   "language": "python",
   "name": "python3"
  },
  "language_info": {
   "codemirror_mode": {
    "name": "ipython",
    "version": 3
   },
   "file_extension": ".py",
   "mimetype": "text/x-python",
   "name": "python",
   "nbconvert_exporter": "python",
   "pygments_lexer": "ipython3",
   "version": "3.7.6"
  }
 },
 "nbformat": 4,
 "nbformat_minor": 4
}
