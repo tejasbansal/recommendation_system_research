{
 "cells": [
  {
   "cell_type": "code",
   "execution_count": 2,
   "metadata": {},
   "outputs": [],
   "source": [
    "import pandas as pd"
   ]
  },
  {
   "cell_type": "code",
   "execution_count": 3,
   "metadata": {},
   "outputs": [],
   "source": [
    "import matplotlib.pyplot as plt"
   ]
  },
  {
   "cell_type": "code",
   "execution_count": 4,
   "metadata": {},
   "outputs": [],
   "source": [
    "import datetime"
   ]
  },
  {
   "cell_type": "code",
   "execution_count": 5,
   "metadata": {},
   "outputs": [],
   "source": [
    "import numpy as np"
   ]
  },
  {
   "cell_type": "code",
   "execution_count": 6,
   "metadata": {},
   "outputs": [],
   "source": [
    "df = pd.read_csv('ratings1.csv')"
   ]
  },
  {
   "cell_type": "code",
   "execution_count": 7,
   "metadata": {
    "scrolled": true
   },
   "outputs": [
    {
     "data": {
      "text/html": [
       "<div>\n",
       "<style scoped>\n",
       "    .dataframe tbody tr th:only-of-type {\n",
       "        vertical-align: middle;\n",
       "    }\n",
       "\n",
       "    .dataframe tbody tr th {\n",
       "        vertical-align: top;\n",
       "    }\n",
       "\n",
       "    .dataframe thead th {\n",
       "        text-align: right;\n",
       "    }\n",
       "</style>\n",
       "<table border=\"1\" class=\"dataframe\">\n",
       "  <thead>\n",
       "    <tr style=\"text-align: right;\">\n",
       "      <th></th>\n",
       "      <th>userId</th>\n",
       "      <th>movieId</th>\n",
       "      <th>rating</th>\n",
       "      <th>timestamp</th>\n",
       "      <th>number of years after 1970</th>\n",
       "    </tr>\n",
       "  </thead>\n",
       "  <tbody>\n",
       "    <tr>\n",
       "      <th>0</th>\n",
       "      <td>1</td>\n",
       "      <td>296</td>\n",
       "      <td>5.0</td>\n",
       "      <td>1147880044</td>\n",
       "      <td>36.399037</td>\n",
       "    </tr>\n",
       "    <tr>\n",
       "      <th>1</th>\n",
       "      <td>1</td>\n",
       "      <td>306</td>\n",
       "      <td>3.5</td>\n",
       "      <td>1147868817</td>\n",
       "      <td>36.398681</td>\n",
       "    </tr>\n",
       "    <tr>\n",
       "      <th>2</th>\n",
       "      <td>1</td>\n",
       "      <td>307</td>\n",
       "      <td>5.0</td>\n",
       "      <td>1147868828</td>\n",
       "      <td>36.398682</td>\n",
       "    </tr>\n",
       "    <tr>\n",
       "      <th>3</th>\n",
       "      <td>1</td>\n",
       "      <td>665</td>\n",
       "      <td>5.0</td>\n",
       "      <td>1147878820</td>\n",
       "      <td>36.398999</td>\n",
       "    </tr>\n",
       "  </tbody>\n",
       "</table>\n",
       "</div>"
      ],
      "text/plain": [
       "   userId  movieId  rating   timestamp  number of years after 1970 \n",
       "0       1      296     5.0  1147880044                    36.399037\n",
       "1       1      306     3.5  1147868817                    36.398681\n",
       "2       1      307     5.0  1147868828                    36.398682\n",
       "3       1      665     5.0  1147878820                    36.398999"
      ]
     },
     "execution_count": 7,
     "metadata": {},
     "output_type": "execute_result"
    }
   ],
   "source": [
    "df.head(4)"
   ]
  },
  {
   "cell_type": "code",
   "execution_count": 8,
   "metadata": {},
   "outputs": [],
   "source": [
    "df['timestamp'] = pd.to_datetime(df['timestamp'],unit='s')"
   ]
  },
  {
   "cell_type": "code",
   "execution_count": 9,
   "metadata": {},
   "outputs": [
    {
     "data": {
      "text/html": [
       "<div>\n",
       "<style scoped>\n",
       "    .dataframe tbody tr th:only-of-type {\n",
       "        vertical-align: middle;\n",
       "    }\n",
       "\n",
       "    .dataframe tbody tr th {\n",
       "        vertical-align: top;\n",
       "    }\n",
       "\n",
       "    .dataframe thead th {\n",
       "        text-align: right;\n",
       "    }\n",
       "</style>\n",
       "<table border=\"1\" class=\"dataframe\">\n",
       "  <thead>\n",
       "    <tr style=\"text-align: right;\">\n",
       "      <th></th>\n",
       "      <th>userId</th>\n",
       "      <th>movieId</th>\n",
       "      <th>rating</th>\n",
       "      <th>timestamp</th>\n",
       "      <th>number of years after 1970</th>\n",
       "    </tr>\n",
       "  </thead>\n",
       "  <tbody>\n",
       "    <tr>\n",
       "      <th>0</th>\n",
       "      <td>1</td>\n",
       "      <td>296</td>\n",
       "      <td>5.0</td>\n",
       "      <td>2006-05-17 15:34:04</td>\n",
       "      <td>36.399037</td>\n",
       "    </tr>\n",
       "    <tr>\n",
       "      <th>1</th>\n",
       "      <td>1</td>\n",
       "      <td>306</td>\n",
       "      <td>3.5</td>\n",
       "      <td>2006-05-17 12:26:57</td>\n",
       "      <td>36.398681</td>\n",
       "    </tr>\n",
       "    <tr>\n",
       "      <th>2</th>\n",
       "      <td>1</td>\n",
       "      <td>307</td>\n",
       "      <td>5.0</td>\n",
       "      <td>2006-05-17 12:27:08</td>\n",
       "      <td>36.398682</td>\n",
       "    </tr>\n",
       "  </tbody>\n",
       "</table>\n",
       "</div>"
      ],
      "text/plain": [
       "   userId  movieId  rating           timestamp  number of years after 1970 \n",
       "0       1      296     5.0 2006-05-17 15:34:04                    36.399037\n",
       "1       1      306     3.5 2006-05-17 12:26:57                    36.398681\n",
       "2       1      307     5.0 2006-05-17 12:27:08                    36.398682"
      ]
     },
     "execution_count": 9,
     "metadata": {},
     "output_type": "execute_result"
    }
   ],
   "source": [
    "df.head(3)"
   ]
  },
  {
   "cell_type": "code",
   "execution_count": 10,
   "metadata": {
    "scrolled": true
   },
   "outputs": [
    {
     "data": {
      "text/plain": [
       "dtype('<M8[ns]')"
      ]
     },
     "execution_count": 10,
     "metadata": {},
     "output_type": "execute_result"
    }
   ],
   "source": [
    "df['timestamp'].dtypes"
   ]
  },
  {
   "cell_type": "code",
   "execution_count": 11,
   "metadata": {},
   "outputs": [],
   "source": [
    "df['date'] = df['timestamp'].dt.strftime(\"%Y,%b,%d\")"
   ]
  },
  {
   "cell_type": "code",
   "execution_count": 12,
   "metadata": {},
   "outputs": [
    {
     "data": {
      "text/html": [
       "<div>\n",
       "<style scoped>\n",
       "    .dataframe tbody tr th:only-of-type {\n",
       "        vertical-align: middle;\n",
       "    }\n",
       "\n",
       "    .dataframe tbody tr th {\n",
       "        vertical-align: top;\n",
       "    }\n",
       "\n",
       "    .dataframe thead th {\n",
       "        text-align: right;\n",
       "    }\n",
       "</style>\n",
       "<table border=\"1\" class=\"dataframe\">\n",
       "  <thead>\n",
       "    <tr style=\"text-align: right;\">\n",
       "      <th></th>\n",
       "      <th>userId</th>\n",
       "      <th>movieId</th>\n",
       "      <th>rating</th>\n",
       "      <th>timestamp</th>\n",
       "      <th>number of years after 1970</th>\n",
       "      <th>date</th>\n",
       "    </tr>\n",
       "  </thead>\n",
       "  <tbody>\n",
       "    <tr>\n",
       "      <th>0</th>\n",
       "      <td>1</td>\n",
       "      <td>296</td>\n",
       "      <td>5.0</td>\n",
       "      <td>2006-05-17 15:34:04</td>\n",
       "      <td>36.399037</td>\n",
       "      <td>2006,May,17</td>\n",
       "    </tr>\n",
       "    <tr>\n",
       "      <th>1</th>\n",
       "      <td>1</td>\n",
       "      <td>306</td>\n",
       "      <td>3.5</td>\n",
       "      <td>2006-05-17 12:26:57</td>\n",
       "      <td>36.398681</td>\n",
       "      <td>2006,May,17</td>\n",
       "    </tr>\n",
       "    <tr>\n",
       "      <th>2</th>\n",
       "      <td>1</td>\n",
       "      <td>307</td>\n",
       "      <td>5.0</td>\n",
       "      <td>2006-05-17 12:27:08</td>\n",
       "      <td>36.398682</td>\n",
       "      <td>2006,May,17</td>\n",
       "    </tr>\n",
       "  </tbody>\n",
       "</table>\n",
       "</div>"
      ],
      "text/plain": [
       "   userId  movieId  rating           timestamp  number of years after 1970   \\\n",
       "0       1      296     5.0 2006-05-17 15:34:04                    36.399037   \n",
       "1       1      306     3.5 2006-05-17 12:26:57                    36.398681   \n",
       "2       1      307     5.0 2006-05-17 12:27:08                    36.398682   \n",
       "\n",
       "          date  \n",
       "0  2006,May,17  \n",
       "1  2006,May,17  \n",
       "2  2006,May,17  "
      ]
     },
     "execution_count": 12,
     "metadata": {},
     "output_type": "execute_result"
    }
   ],
   "source": [
    "df.head(3)"
   ]
  },
  {
   "cell_type": "code",
   "execution_count": 13,
   "metadata": {},
   "outputs": [
    {
     "data": {
      "text/html": [
       "<div>\n",
       "<style scoped>\n",
       "    .dataframe tbody tr th:only-of-type {\n",
       "        vertical-align: middle;\n",
       "    }\n",
       "\n",
       "    .dataframe tbody tr th {\n",
       "        vertical-align: top;\n",
       "    }\n",
       "\n",
       "    .dataframe thead th {\n",
       "        text-align: right;\n",
       "    }\n",
       "</style>\n",
       "<table border=\"1\" class=\"dataframe\">\n",
       "  <thead>\n",
       "    <tr style=\"text-align: right;\">\n",
       "      <th></th>\n",
       "      <th>userId</th>\n",
       "      <th>movieId</th>\n",
       "      <th>rating</th>\n",
       "      <th>timestamp</th>\n",
       "      <th>number of years after 1970</th>\n",
       "      <th>date</th>\n",
       "    </tr>\n",
       "  </thead>\n",
       "  <tbody>\n",
       "    <tr>\n",
       "      <th>510503</th>\n",
       "      <td>3504</td>\n",
       "      <td>1</td>\n",
       "      <td>1.0</td>\n",
       "      <td>2016-12-27 23:09:29</td>\n",
       "      <td>NaN</td>\n",
       "      <td>2016,Dec,27</td>\n",
       "    </tr>\n",
       "    <tr>\n",
       "      <th>548258</th>\n",
       "      <td>3760</td>\n",
       "      <td>1</td>\n",
       "      <td>5.0</td>\n",
       "      <td>2015-04-04 20:24:15</td>\n",
       "      <td>NaN</td>\n",
       "      <td>2015,Apr,04</td>\n",
       "    </tr>\n",
       "    <tr>\n",
       "      <th>982053</th>\n",
       "      <td>6586</td>\n",
       "      <td>1</td>\n",
       "      <td>4.0</td>\n",
       "      <td>2003-01-25 21:39:08</td>\n",
       "      <td>NaN</td>\n",
       "      <td>2003,Jan,25</td>\n",
       "    </tr>\n",
       "    <tr>\n",
       "      <th>917018</th>\n",
       "      <td>6157</td>\n",
       "      <td>1</td>\n",
       "      <td>3.0</td>\n",
       "      <td>2004-09-15 03:38:06</td>\n",
       "      <td>NaN</td>\n",
       "      <td>2004,Sep,15</td>\n",
       "    </tr>\n",
       "    <tr>\n",
       "      <th>189163</th>\n",
       "      <td>1343</td>\n",
       "      <td>1</td>\n",
       "      <td>3.0</td>\n",
       "      <td>2010-10-02 15:19:31</td>\n",
       "      <td>NaN</td>\n",
       "      <td>2010,Oct,02</td>\n",
       "    </tr>\n",
       "    <tr>\n",
       "      <th>...</th>\n",
       "      <td>...</td>\n",
       "      <td>...</td>\n",
       "      <td>...</td>\n",
       "      <td>...</td>\n",
       "      <td>...</td>\n",
       "      <td>...</td>\n",
       "    </tr>\n",
       "    <tr>\n",
       "      <th>1043710</th>\n",
       "      <td>7014</td>\n",
       "      <td>208112</td>\n",
       "      <td>5.0</td>\n",
       "      <td>2019-10-29 21:48:24</td>\n",
       "      <td>NaN</td>\n",
       "      <td>2019,Oct,29</td>\n",
       "    </tr>\n",
       "    <tr>\n",
       "      <th>599073</th>\n",
       "      <td>4085</td>\n",
       "      <td>208737</td>\n",
       "      <td>3.5</td>\n",
       "      <td>2019-11-11 23:55:09</td>\n",
       "      <td>NaN</td>\n",
       "      <td>2019,Nov,11</td>\n",
       "    </tr>\n",
       "    <tr>\n",
       "      <th>233962</th>\n",
       "      <td>1652</td>\n",
       "      <td>208793</td>\n",
       "      <td>3.5</td>\n",
       "      <td>2019-11-12 20:33:23</td>\n",
       "      <td>NaN</td>\n",
       "      <td>2019,Nov,12</td>\n",
       "    </tr>\n",
       "    <tr>\n",
       "      <th>437621</th>\n",
       "      <td>3013</td>\n",
       "      <td>208939</td>\n",
       "      <td>4.0</td>\n",
       "      <td>2019-11-17 06:06:29</td>\n",
       "      <td>NaN</td>\n",
       "      <td>2019,Nov,17</td>\n",
       "    </tr>\n",
       "    <tr>\n",
       "      <th>1036618</th>\n",
       "      <td>6964</td>\n",
       "      <td>209163</td>\n",
       "      <td>4.5</td>\n",
       "      <td>2019-11-20 21:21:53</td>\n",
       "      <td>NaN</td>\n",
       "      <td>2019,Nov,20</td>\n",
       "    </tr>\n",
       "  </tbody>\n",
       "</table>\n",
       "<p>1048575 rows × 6 columns</p>\n",
       "</div>"
      ],
      "text/plain": [
       "         userId  movieId  rating           timestamp  \\\n",
       "510503     3504        1     1.0 2016-12-27 23:09:29   \n",
       "548258     3760        1     5.0 2015-04-04 20:24:15   \n",
       "982053     6586        1     4.0 2003-01-25 21:39:08   \n",
       "917018     6157        1     3.0 2004-09-15 03:38:06   \n",
       "189163     1343        1     3.0 2010-10-02 15:19:31   \n",
       "...         ...      ...     ...                 ...   \n",
       "1043710    7014   208112     5.0 2019-10-29 21:48:24   \n",
       "599073     4085   208737     3.5 2019-11-11 23:55:09   \n",
       "233962     1652   208793     3.5 2019-11-12 20:33:23   \n",
       "437621     3013   208939     4.0 2019-11-17 06:06:29   \n",
       "1036618    6964   209163     4.5 2019-11-20 21:21:53   \n",
       "\n",
       "         number of years after 1970          date  \n",
       "510503                           NaN  2016,Dec,27  \n",
       "548258                           NaN  2015,Apr,04  \n",
       "982053                           NaN  2003,Jan,25  \n",
       "917018                           NaN  2004,Sep,15  \n",
       "189163                           NaN  2010,Oct,02  \n",
       "...                              ...          ...  \n",
       "1043710                          NaN  2019,Oct,29  \n",
       "599073                           NaN  2019,Nov,11  \n",
       "233962                           NaN  2019,Nov,12  \n",
       "437621                           NaN  2019,Nov,17  \n",
       "1036618                          NaN  2019,Nov,20  \n",
       "\n",
       "[1048575 rows x 6 columns]"
      ]
     },
     "execution_count": 13,
     "metadata": {},
     "output_type": "execute_result"
    }
   ],
   "source": [
    "df.sort_values('movieId')"
   ]
  },
  {
   "cell_type": "code",
   "execution_count": 14,
   "metadata": {},
   "outputs": [
    {
     "data": {
      "text/plain": [
       "Index(['userId', 'movieId', 'rating', 'timestamp',\n",
       "       'number of years after 1970 ', 'date'],\n",
       "      dtype='object')"
      ]
     },
     "execution_count": 14,
     "metadata": {},
     "output_type": "execute_result"
    }
   ],
   "source": [
    "df.columns"
   ]
  },
  {
   "cell_type": "code",
   "execution_count": 15,
   "metadata": {},
   "outputs": [],
   "source": [
    "df = df.drop('number of years after 1970 ',1)"
   ]
  },
  {
   "cell_type": "code",
   "execution_count": 16,
   "metadata": {},
   "outputs": [
    {
     "data": {
      "text/html": [
       "<div>\n",
       "<style scoped>\n",
       "    .dataframe tbody tr th:only-of-type {\n",
       "        vertical-align: middle;\n",
       "    }\n",
       "\n",
       "    .dataframe tbody tr th {\n",
       "        vertical-align: top;\n",
       "    }\n",
       "\n",
       "    .dataframe thead th {\n",
       "        text-align: right;\n",
       "    }\n",
       "</style>\n",
       "<table border=\"1\" class=\"dataframe\">\n",
       "  <thead>\n",
       "    <tr style=\"text-align: right;\">\n",
       "      <th></th>\n",
       "      <th>userId</th>\n",
       "      <th>movieId</th>\n",
       "      <th>rating</th>\n",
       "      <th>timestamp</th>\n",
       "      <th>date</th>\n",
       "    </tr>\n",
       "  </thead>\n",
       "  <tbody>\n",
       "    <tr>\n",
       "      <th>0</th>\n",
       "      <td>1</td>\n",
       "      <td>296</td>\n",
       "      <td>5.0</td>\n",
       "      <td>2006-05-17 15:34:04</td>\n",
       "      <td>2006,May,17</td>\n",
       "    </tr>\n",
       "    <tr>\n",
       "      <th>1</th>\n",
       "      <td>1</td>\n",
       "      <td>306</td>\n",
       "      <td>3.5</td>\n",
       "      <td>2006-05-17 12:26:57</td>\n",
       "      <td>2006,May,17</td>\n",
       "    </tr>\n",
       "    <tr>\n",
       "      <th>2</th>\n",
       "      <td>1</td>\n",
       "      <td>307</td>\n",
       "      <td>5.0</td>\n",
       "      <td>2006-05-17 12:27:08</td>\n",
       "      <td>2006,May,17</td>\n",
       "    </tr>\n",
       "    <tr>\n",
       "      <th>3</th>\n",
       "      <td>1</td>\n",
       "      <td>665</td>\n",
       "      <td>5.0</td>\n",
       "      <td>2006-05-17 15:13:40</td>\n",
       "      <td>2006,May,17</td>\n",
       "    </tr>\n",
       "  </tbody>\n",
       "</table>\n",
       "</div>"
      ],
      "text/plain": [
       "   userId  movieId  rating           timestamp         date\n",
       "0       1      296     5.0 2006-05-17 15:34:04  2006,May,17\n",
       "1       1      306     3.5 2006-05-17 12:26:57  2006,May,17\n",
       "2       1      307     5.0 2006-05-17 12:27:08  2006,May,17\n",
       "3       1      665     5.0 2006-05-17 15:13:40  2006,May,17"
      ]
     },
     "execution_count": 16,
     "metadata": {},
     "output_type": "execute_result"
    }
   ],
   "source": [
    "df.head(4)"
   ]
  },
  {
   "cell_type": "code",
   "execution_count": 17,
   "metadata": {},
   "outputs": [],
   "source": [
    "df = df.sort_values('movieId')"
   ]
  },
  {
   "cell_type": "code",
   "execution_count": 18,
   "metadata": {},
   "outputs": [
    {
     "data": {
      "text/html": [
       "<div>\n",
       "<style scoped>\n",
       "    .dataframe tbody tr th:only-of-type {\n",
       "        vertical-align: middle;\n",
       "    }\n",
       "\n",
       "    .dataframe tbody tr th {\n",
       "        vertical-align: top;\n",
       "    }\n",
       "\n",
       "    .dataframe thead th {\n",
       "        text-align: right;\n",
       "    }\n",
       "</style>\n",
       "<table border=\"1\" class=\"dataframe\">\n",
       "  <thead>\n",
       "    <tr style=\"text-align: right;\">\n",
       "      <th></th>\n",
       "      <th>userId</th>\n",
       "      <th>movieId</th>\n",
       "      <th>rating</th>\n",
       "      <th>timestamp</th>\n",
       "      <th>date</th>\n",
       "    </tr>\n",
       "  </thead>\n",
       "  <tbody>\n",
       "    <tr>\n",
       "      <th>510503</th>\n",
       "      <td>3504</td>\n",
       "      <td>1</td>\n",
       "      <td>1.0</td>\n",
       "      <td>2016-12-27 23:09:29</td>\n",
       "      <td>2016,Dec,27</td>\n",
       "    </tr>\n",
       "    <tr>\n",
       "      <th>548258</th>\n",
       "      <td>3760</td>\n",
       "      <td>1</td>\n",
       "      <td>5.0</td>\n",
       "      <td>2015-04-04 20:24:15</td>\n",
       "      <td>2015,Apr,04</td>\n",
       "    </tr>\n",
       "    <tr>\n",
       "      <th>982053</th>\n",
       "      <td>6586</td>\n",
       "      <td>1</td>\n",
       "      <td>4.0</td>\n",
       "      <td>2003-01-25 21:39:08</td>\n",
       "      <td>2003,Jan,25</td>\n",
       "    </tr>\n",
       "  </tbody>\n",
       "</table>\n",
       "</div>"
      ],
      "text/plain": [
       "        userId  movieId  rating           timestamp         date\n",
       "510503    3504        1     1.0 2016-12-27 23:09:29  2016,Dec,27\n",
       "548258    3760        1     5.0 2015-04-04 20:24:15  2015,Apr,04\n",
       "982053    6586        1     4.0 2003-01-25 21:39:08  2003,Jan,25"
      ]
     },
     "execution_count": 18,
     "metadata": {},
     "output_type": "execute_result"
    }
   ],
   "source": [
    "df.head(3)"
   ]
  },
  {
   "cell_type": "code",
   "execution_count": 19,
   "metadata": {},
   "outputs": [],
   "source": [
    "df['month'] = df['timestamp'].dt.month"
   ]
  },
  {
   "cell_type": "code",
   "execution_count": 20,
   "metadata": {},
   "outputs": [],
   "source": [
    "df.to_csv('ratings_df')"
   ]
  },
  {
   "cell_type": "code",
   "execution_count": 21,
   "metadata": {},
   "outputs": [],
   "source": [
    "df.drop(df[df['movieId']!=1].index,inplace = True)"
   ]
  },
  {
   "cell_type": "code",
   "execution_count": 22,
   "metadata": {},
   "outputs": [],
   "source": [
    "df.to_csv('frame.csv')"
   ]
  },
  {
   "cell_type": "code",
   "execution_count": 23,
   "metadata": {},
   "outputs": [
    {
     "data": {
      "text/plain": [
       "<bound method NDFrame.head of         userId  movieId  rating           timestamp         date  month\n",
       "510503    3504        1     1.0 2016-12-27 23:09:29  2016,Dec,27     12\n",
       "548258    3760        1     5.0 2015-04-04 20:24:15  2015,Apr,04      4\n",
       "982053    6586        1     4.0 2003-01-25 21:39:08  2003,Jan,25      1\n",
       "917018    6157        1     3.0 2004-09-15 03:38:06  2004,Sep,15      9\n",
       "189163    1343        1     3.0 2010-10-02 15:19:31  2010,Oct,02     10\n",
       "...        ...      ...     ...                 ...          ...    ...\n",
       "220547    1561        1     3.5 2008-04-01 22:38:47  2008,Apr,01      4\n",
       "814089    5473        1     3.5 2013-02-05 20:21:59  2013,Feb,05      2\n",
       "287280    1996        1     4.0 1997-01-14 13:39:47  1997,Jan,14      1\n",
       "839471    5667        1     5.0 1997-03-07 21:15:11  1997,Mar,07      3\n",
       "467245    3204        1     2.0 1997-02-07 04:55:31  1997,Feb,07      2\n",
       "\n",
       "[2465 rows x 6 columns]>"
      ]
     },
     "execution_count": 23,
     "metadata": {},
     "output_type": "execute_result"
    }
   ],
   "source": [
    "df.head"
   ]
  },
  {
   "cell_type": "code",
   "execution_count": 24,
   "metadata": {
    "scrolled": true
   },
   "outputs": [],
   "source": [
    "jan=feb=mar=apr=may=jun=jul=aug=sep=octo=nov=dec=0\n",
    "for month in df['month']:\n",
    "    if(month == 1):\n",
    "        jan += 1\n",
    "    elif(month == 2):\n",
    "        feb += 1\n",
    "    elif(month == 3):\n",
    "        mar += 1\n",
    "    elif(month == 4):\n",
    "        apr += 1\n",
    "    elif(month == 5):\n",
    "        may += 1\n",
    "    elif(month == 6):\n",
    "        jun += 1\n",
    "    elif(month == 7):\n",
    "        jul += 1\n",
    "    elif(month == 8):\n",
    "        aug += 1\n",
    "    elif(month == 9):\n",
    "        sep += 1\n",
    "    elif(month == 10):\n",
    "        octo += 1\n",
    "    elif(month == 11):\n",
    "        nov += 1\n",
    "    elif(month == 12):\n",
    "        dec += 1\n",
    "df2 = pd.DataFrame({'month':['jan','feb','mar','apr','may','jun','jul','aug','sep','oct','nov','dec'],'number_of_ratings':[jan,feb,mar,apr,may,jun,jul,aug,sep,octo,nov,dec]})    \n",
    "    \n",
    "    "
   ]
  },
  {
   "cell_type": "code",
   "execution_count": 25,
   "metadata": {},
   "outputs": [
    {
     "data": {
      "text/plain": [
       "<bound method NDFrame.head of    month  number_of_ratings\n",
       "0    jan                197\n",
       "1    feb                173\n",
       "2    mar                199\n",
       "3    apr                201\n",
       "4    may                265\n",
       "5    jun                237\n",
       "6    jul                195\n",
       "7    aug                179\n",
       "8    sep                140\n",
       "9    oct                202\n",
       "10   nov                242\n",
       "11   dec                235>"
      ]
     },
     "execution_count": 25,
     "metadata": {},
     "output_type": "execute_result"
    }
   ],
   "source": [
    "df2.head"
   ]
  },
  {
   "cell_type": "code",
   "execution_count": 26,
   "metadata": {
    "scrolled": true
   },
   "outputs": [
    {
     "data": {
      "text/plain": [
       "<matplotlib.axes._subplots.AxesSubplot at 0x213ad96c608>"
      ]
     },
     "execution_count": 26,
     "metadata": {},
     "output_type": "execute_result"
    },
    {
     "data": {
      "image/png": "[encoded data removed]",
      "text/plain": [
       "<Figure size 432x288 with 1 Axes>"
      ]
     },
     "metadata": {
      "needs_background": "light"
     },
     "output_type": "display_data"
    }
   ],
   "source": [
    "df2.plot()"
   ]
  }
 ],
 "metadata": {
  "kernelspec": {
   "display_name": "Python 3",
   "language": "python",
   "name": "python3"
  },
  "language_info": {
   "codemirror_mode": {
    "name": "ipython",
    "version": 3
   },
   "file_extension": ".py",
   "mimetype": "text/x-python",
   "name": "python",
   "nbconvert_exporter": "python",
   "pygments_lexer": "ipython3",
   "version": "3.7.6"
  }
 },
 "nbformat": 4,
 "nbformat_minor": 4
}
