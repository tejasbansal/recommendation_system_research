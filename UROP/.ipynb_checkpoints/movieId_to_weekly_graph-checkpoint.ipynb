{
 "cells": [
  {
   "cell_type": "code",
   "execution_count": 56,
   "metadata": {
    "pycharm": {
     "is_executing": true
    }
   },
   "outputs": [],
   "source": [
    "import pandas as pd\n",
    "import matplotlib.pyplot as plt\n",
    "import datetime\n",
    "import numpy as np"
   ]
  },
  {
   "cell_type": "code",
   "execution_count": 57,
   "metadata": {
    "pycharm": {
     "is_executing": true
    }
   },
   "outputs": [],
   "source": [
    "df = pd.read_csv('ratings1.csv')\n",
    "df = df.drop('number of years after 1970 ', 1)\n",
    "df['timestamp'] = pd.to_datetime(df['timestamp'], unit='s')\n",
    "df['date'] = df['timestamp'].dt.strftime(\"%Y,%b,%d\")\n",
    "df['month_year'] = df['timestamp'].dt.to_period('M')"
   ]
  },
  {
   "cell_type": "code",
   "execution_count": 58,
   "metadata": {
    "pycharm": {
     "is_executing": true
    }
   },
   "outputs": [],
   "source": [
    "df = df.sort_values(by=['month_year'],ascending = False)"
   ]
  },
  {
   "cell_type": "code",
   "execution_count": 59,
   "metadata": {
    "pycharm": {
     "is_executing": true
    }
   },
   "outputs": [
    {
     "data": {
      "text/html": [
       "<div>\n",
       "<style scoped>\n",
       "    .dataframe tbody tr th:only-of-type {\n",
       "        vertical-align: middle;\n",
       "    }\n",
       "\n",
       "    .dataframe tbody tr th {\n",
       "        vertical-align: top;\n",
       "    }\n",
       "\n",
       "    .dataframe thead th {\n",
       "        text-align: right;\n",
       "    }\n",
       "</style>\n",
       "<table border=\"1\" class=\"dataframe\">\n",
       "  <thead>\n",
       "    <tr style=\"text-align: right;\">\n",
       "      <th></th>\n",
       "      <th>userId</th>\n",
       "      <th>movieId</th>\n",
       "      <th>rating</th>\n",
       "      <th>timestamp</th>\n",
       "      <th>date</th>\n",
       "      <th>month_year</th>\n",
       "    </tr>\n",
       "  </thead>\n",
       "  <tbody>\n",
       "    <tr>\n",
       "      <th>679426</th>\n",
       "      <td>4642</td>\n",
       "      <td>176101</td>\n",
       "      <td>3.5</td>\n",
       "      <td>2019-11-15 08:49:43</td>\n",
       "      <td>2019,Nov,15</td>\n",
       "      <td>2019-11</td>\n",
       "    </tr>\n",
       "    <tr>\n",
       "      <th>753131</th>\n",
       "      <td>5114</td>\n",
       "      <td>207405</td>\n",
       "      <td>3.0</td>\n",
       "      <td>2019-11-17 18:45:16</td>\n",
       "      <td>2019,Nov,17</td>\n",
       "      <td>2019-11</td>\n",
       "    </tr>\n",
       "    <tr>\n",
       "      <th>246442</th>\n",
       "      <td>1746</td>\n",
       "      <td>110771</td>\n",
       "      <td>4.0</td>\n",
       "      <td>2019-11-18 11:20:56</td>\n",
       "      <td>2019,Nov,18</td>\n",
       "      <td>2019-11</td>\n",
       "    </tr>\n",
       "  </tbody>\n",
       "</table>\n",
       "</div>"
      ],
      "text/plain": [
       "        userId  movieId  rating           timestamp         date month_year\n",
       "679426    4642   176101     3.5 2019-11-15 08:49:43  2019,Nov,15    2019-11\n",
       "753131    5114   207405     3.0 2019-11-17 18:45:16  2019,Nov,17    2019-11\n",
       "246442    1746   110771     4.0 2019-11-18 11:20:56  2019,Nov,18    2019-11"
      ]
     },
     "execution_count": 59,
     "metadata": {},
     "output_type": "execute_result"
    }
   ],
   "source": [
    "df.head(3)"
   ]
  },
  {
   "cell_type": "code",
   "execution_count": 60,
   "metadata": {
    "pycharm": {
     "is_executing": true
    }
   },
   "outputs": [],
   "source": [
    "df.drop(df[df['movieId'] != 1].index, inplace=True)"
   ]
  },
  {
   "cell_type": "code",
   "execution_count": 61,
   "metadata": {
    "pycharm": {
     "is_executing": true
    }
   },
   "outputs": [],
   "source": [
    "df.sort_values(by=['timestamp'],inplace=True,ascending=False)"
   ]
  },
  {
   "cell_type": "code",
   "execution_count": 62,
   "metadata": {
    "pycharm": {
     "is_executing": true
    }
   },
   "outputs": [
    {
     "data": {
      "text/html": [
       "<div>\n",
       "<style scoped>\n",
       "    .dataframe tbody tr th:only-of-type {\n",
       "        vertical-align: middle;\n",
       "    }\n",
       "\n",
       "    .dataframe tbody tr th {\n",
       "        vertical-align: top;\n",
       "    }\n",
       "\n",
       "    .dataframe thead th {\n",
       "        text-align: right;\n",
       "    }\n",
       "</style>\n",
       "<table border=\"1\" class=\"dataframe\">\n",
       "  <thead>\n",
       "    <tr style=\"text-align: right;\">\n",
       "      <th></th>\n",
       "      <th>userId</th>\n",
       "      <th>movieId</th>\n",
       "      <th>rating</th>\n",
       "      <th>timestamp</th>\n",
       "      <th>date</th>\n",
       "      <th>month_year</th>\n",
       "    </tr>\n",
       "  </thead>\n",
       "  <tbody>\n",
       "    <tr>\n",
       "      <th>875824</th>\n",
       "      <td>5882</td>\n",
       "      <td>1</td>\n",
       "      <td>5.0</td>\n",
       "      <td>2019-11-17 18:47:38</td>\n",
       "      <td>2019,Nov,17</td>\n",
       "      <td>2019-11</td>\n",
       "    </tr>\n",
       "    <tr>\n",
       "      <th>910</th>\n",
       "      <td>4</td>\n",
       "      <td>1</td>\n",
       "      <td>3.0</td>\n",
       "      <td>2019-11-16 22:44:12</td>\n",
       "      <td>2019,Nov,16</td>\n",
       "      <td>2019-11</td>\n",
       "    </tr>\n",
       "    <tr>\n",
       "      <th>1026644</th>\n",
       "      <td>6915</td>\n",
       "      <td>1</td>\n",
       "      <td>4.0</td>\n",
       "      <td>2019-10-26 06:51:05</td>\n",
       "      <td>2019,Oct,26</td>\n",
       "      <td>2019-10</td>\n",
       "    </tr>\n",
       "  </tbody>\n",
       "</table>\n",
       "</div>"
      ],
      "text/plain": [
       "         userId  movieId  rating           timestamp         date month_year\n",
       "875824     5882        1     5.0 2019-11-17 18:47:38  2019,Nov,17    2019-11\n",
       "910           4        1     3.0 2019-11-16 22:44:12  2019,Nov,16    2019-11\n",
       "1026644    6915        1     4.0 2019-10-26 06:51:05  2019,Oct,26    2019-10"
      ]
     },
     "execution_count": 62,
     "metadata": {},
     "output_type": "execute_result"
    }
   ],
   "source": [
    "df.head(3)"
   ]
  },
  {
   "cell_type": "code",
   "execution_count": 63,
   "metadata": {
    "pycharm": {
     "is_executing": true
    }
   },
   "outputs": [],
   "source": [
    "df = df.sort_values(by=['month_year'],ascending=False)"
   ]
  },
  {
   "cell_type": "code",
   "execution_count": 64,
   "metadata": {
    "pycharm": {
     "is_executing": true
    },
    "scrolled": true
   },
   "outputs": [
    {
     "data": {
      "text/plain": [
       "userId                 int64\n",
       "movieId                int64\n",
       "rating               float64\n",
       "timestamp     datetime64[ns]\n",
       "date                  object\n",
       "month_year         period[M]\n",
       "dtype: object"
      ]
     },
     "execution_count": 64,
     "metadata": {},
     "output_type": "execute_result"
    }
   ],
   "source": [
    "df.dtypes"
   ]
  },
  {
   "cell_type": "code",
   "execution_count": 65,
   "metadata": {
    "pycharm": {
     "is_executing": true
    }
   },
   "outputs": [
    {
     "name": "stdout",
     "output_type": "stream",
     "text": [
      "1996-02-22 17:34:20\n"
     ]
    },
    {
     "data": {
      "text/html": [
       "<div>\n",
       "<style scoped>\n",
       "    .dataframe tbody tr th:only-of-type {\n",
       "        vertical-align: middle;\n",
       "    }\n",
       "\n",
       "    .dataframe tbody tr th {\n",
       "        vertical-align: top;\n",
       "    }\n",
       "\n",
       "    .dataframe thead th {\n",
       "        text-align: right;\n",
       "    }\n",
       "</style>\n",
       "<table border=\"1\" class=\"dataframe\">\n",
       "  <thead>\n",
       "    <tr style=\"text-align: right;\">\n",
       "      <th></th>\n",
       "      <th>userId</th>\n",
       "      <th>movieId</th>\n",
       "      <th>rating</th>\n",
       "      <th>timestamp</th>\n",
       "      <th>date</th>\n",
       "      <th>month_year</th>\n",
       "      <th>year</th>\n",
       "      <th>month</th>\n",
       "    </tr>\n",
       "  </thead>\n",
       "  <tbody>\n",
       "    <tr>\n",
       "      <th>875824</th>\n",
       "      <td>5882</td>\n",
       "      <td>1</td>\n",
       "      <td>5.0</td>\n",
       "      <td>2019-11-17 18:47:38</td>\n",
       "      <td>2019,Nov,17</td>\n",
       "      <td>2019-11</td>\n",
       "      <td>2019</td>\n",
       "      <td>11</td>\n",
       "    </tr>\n",
       "    <tr>\n",
       "      <th>910</th>\n",
       "      <td>4</td>\n",
       "      <td>1</td>\n",
       "      <td>3.0</td>\n",
       "      <td>2019-11-16 22:44:12</td>\n",
       "      <td>2019,Nov,16</td>\n",
       "      <td>2019-11</td>\n",
       "      <td>2019</td>\n",
       "      <td>11</td>\n",
       "    </tr>\n",
       "    <tr>\n",
       "      <th>1026644</th>\n",
       "      <td>6915</td>\n",
       "      <td>1</td>\n",
       "      <td>4.0</td>\n",
       "      <td>2019-10-26 06:51:05</td>\n",
       "      <td>2019,Oct,26</td>\n",
       "      <td>2019-10</td>\n",
       "      <td>2019</td>\n",
       "      <td>10</td>\n",
       "    </tr>\n",
       "  </tbody>\n",
       "</table>\n",
       "</div>"
      ],
      "text/plain": [
       "         userId  movieId  rating           timestamp         date month_year  \\\n",
       "875824     5882        1     5.0 2019-11-17 18:47:38  2019,Nov,17    2019-11   \n",
       "910           4        1     3.0 2019-11-16 22:44:12  2019,Nov,16    2019-11   \n",
       "1026644    6915        1     4.0 2019-10-26 06:51:05  2019,Oct,26    2019-10   \n",
       "\n",
       "         year  month  \n",
       "875824   2019     11  \n",
       "910      2019     11  \n",
       "1026644  2019     10  "
      ]
     },
     "execution_count": 65,
     "metadata": {},
     "output_type": "execute_result"
    }
   ],
   "source": [
    "a = df['timestamp'].min()\n",
    "print(a)\n",
    "df['year'] = pd.DatetimeIndex(df['timestamp']).year\n",
    "df['month'] = pd.DatetimeIndex(df['timestamp']).month\n",
    "df.head(3)"
   ]
  },
  {
   "cell_type": "code",
   "execution_count": 76,
   "metadata": {
    "pycharm": {
     "is_executing": true
    }
   },
   "outputs": [
    {
     "name": "stdout",
     "output_type": "stream",
     "text": [
      "1996-02-22 17:34:20\n",
      "2019-11-17 18:47:38\n"
     ]
    }
   ],
   "source": [
    "#iterating over time \n",
    "start = df['timestamp'].min()\n",
    "end = df['timestamp'].max()\n",
    "df2 = pd.DataFrame(columns=['timestamp','number_of_ratings'])\n",
    "delta = datetime.timedelta(days=30)\n",
    "i = 0\n",
    "t\n",
    "print(start)\n",
    "print(end)\n",
    "while start <= end:\n",
    "    count = 0\n",
    "    for t in df.timestamp:\n",
    "        if t.month==start.month and t.year==start.year:\n",
    "            count +=1\n",
    "    #print(start)\n",
    "    #print(count)\n",
    "    #print(i)\n",
    "    df2.loc[i] = [start,count]\n",
    "    i+=1\n",
    "    start+= delta\n",
    "   \n",
    "    \n"
   ]
  },
  {
   "cell_type": "code",
   "execution_count": 80,
   "metadata": {
    "pycharm": {
     "is_executing": true
    },
    "scrolled": true
   },
   "outputs": [
    {
     "data": {
      "text/plain": [
       "<bound method NDFrame.head of               timestamp number_of_ratings\n",
       "0   1996-02-22 17:34:20                 1\n",
       "1   1996-03-23 17:34:20                 4\n",
       "2   1996-04-22 17:34:20                21\n",
       "3   1996-05-22 17:34:20                69\n",
       "4   1996-06-21 17:34:20                76\n",
       "..                  ...               ...\n",
       "284 2019-06-21 17:34:20                 3\n",
       "285 2019-07-21 17:34:20                 6\n",
       "286 2019-08-20 17:34:20                 6\n",
       "287 2019-09-19 17:34:20                 9\n",
       "288 2019-10-19 17:34:20                 5\n",
       "\n",
       "[289 rows x 2 columns]>"
      ]
     },
     "execution_count": 80,
     "metadata": {},
     "output_type": "execute_result"
    }
   ],
   "source": [
    "df2.head"
   ]
  },
  {
   "cell_type": "code",
   "execution_count": 82,
   "metadata": {},
   "outputs": [
    {
     "data": {
      "text/plain": [
       "<matplotlib.axes._subplots.AxesSubplot at 0x1509f1625c8>"
      ]
     },
     "execution_count": 82,
     "metadata": {},
     "output_type": "execute_result"
    },
    {
     "data": {
      "image/png": "[encoded data removed]",
      "text/plain": [
       "<Figure size 432x288 with 1 Axes>"
      ]
     },
     "metadata": {
      "needs_background": "light"
     },
     "output_type": "display_data"
    }
   ],
   "source": [
    "df2.plot(x='timestamp',y='number_of_ratings',kind='line')"
   ]
  },
  {
   "cell_type": "code",
   "execution_count": null,
   "metadata": {},
   "outputs": [],
   "source": []
  }
 ],
 "metadata": {
  "kernelspec": {
   "display_name": "Python 3",
   "language": "python",
   "name": "python3"
  },
  "language_info": {
   "codemirror_mode": {
    "name": "ipython",
    "version": 3
   },
   "file_extension": ".py",
   "mimetype": "text/x-python",
   "name": "python",
   "nbconvert_exporter": "python",
   "pygments_lexer": "ipython3",
   "version": "3.7.6"
  }
 },
 "nbformat": 4,
 "nbformat_minor": 4
}
